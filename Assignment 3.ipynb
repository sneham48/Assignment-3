{
 "cells": [
  {
   "cell_type": "markdown",
   "metadata": {},
   "source": [
    "TASK 1\n",
    "\n",
    "1.Write a function to compute 5/0 and use try/except to catch the exceptions."
   ]
  },
  {
   "cell_type": "code",
   "execution_count": 5,
   "metadata": {},
   "outputs": [
    {
     "name": "stdout",
     "output_type": "stream",
     "text": [
      "You are dividing a number by ZERO!!\n"
     ]
    }
   ],
   "source": [
    "def divide():\n",
    "    return 5/0\n",
    "\n",
    "try:\n",
    "    divide()\n",
    "except ZeroDivisionError as ze:\n",
    "    print(\"You are dividing a number by ZERO!!\")\n",
    "except:\n",
    "    print(\"Any other exception\")"
   ]
  },
  {
   "cell_type": "markdown",
   "metadata": {},
   "source": [
    "2.\n",
    "Implement a Python program to generate all sentences where subject is in [\"Americans\",\n",
    "\"Indians\"] and verb is in [\"Play\", \"watch\"] and the object is in [\"Baseball\",\"cricket\"].\n"
   ]
  },
  {
   "cell_type": "code",
   "execution_count": 2,
   "metadata": {},
   "outputs": [
    {
     "name": "stdout",
     "output_type": "stream",
     "text": [
      "Americans Play Baseball\n",
      "Americans Play cricket\n",
      "Americans watch Baseball\n",
      "Americans watch cricket\n",
      "Indians Play Baseball\n",
      "Indians Play cricket\n",
      "Indians watch Baseball\n",
      "Indians watch cricket\n"
     ]
    }
   ],
   "source": [
    "subject=[\"Americans\", \"Indians\"]\n",
    "verb=[\"Play\", \"watch\"]\n",
    "obj=[\"Baseball\",\"cricket\"]\n",
    "\n",
    "# Use list comprehension instead of looping over each of the predicates\n",
    "sentence_list = [(sub+\" \"+ vb + \" \" + ob) for sub in subject for vb in verb for ob in obj]\n",
    "for sentence in sentence_list:\n",
    " print (sentence)\n"
   ]
  },
  {
   "cell_type": "markdown",
   "metadata": {},
   "source": [
    "Task 2:\n",
    "\n",
    "    1.Write a function so that the columns of the output matrix are powers of the input vector.\n",
    "    \n",
    "The order of the powers is determined by the increasing boolean argument. Specifically, when\n",
    "increasing is False, the i-th output column is the input vector raised element-wise to the power\n",
    "of N - i - 1.\n",
    "\n",
    "\n",
    "HINT: Such a matrix with a geometric progression in each row is named for AlexandreTheophile Vandermonde.\n"
   ]
  },
  {
   "cell_type": "code",
   "execution_count": 4,
   "metadata": {},
   "outputs": [
    {
     "data": {
      "text/plain": [
       "48"
      ]
     },
     "execution_count": 4,
     "metadata": {},
     "output_type": "execute_result"
    }
   ],
   "source": [
    "import numpy as np\n",
    "x = np.array([1, 2, 3, 5])\n",
    "N = 3\n",
    "np.vander(x, N)\n",
    "np.column_stack([x**(N-1-i) for i in range(N)])\n",
    "x = np.array([1, 2, 3, 5])\n",
    "np.vander(x)\n",
    "np.linalg.det(np.vander(x))\n",
    "(5-3)*(5-2)*(5-1)*(3-2)*(3-1)*(2-1)"
   ]
  }
 ],
 "metadata": {
  "kernelspec": {
   "display_name": "Python 3",
   "language": "python",
   "name": "python3"
  },
  "language_info": {
   "codemirror_mode": {
    "name": "ipython",
    "version": 3
   },
   "file_extension": ".py",
   "mimetype": "text/x-python",
   "name": "python",
   "nbconvert_exporter": "python",
   "pygments_lexer": "ipython3",
   "version": "3.7.4"
  }
 },
 "nbformat": 4,
 "nbformat_minor": 2
}
